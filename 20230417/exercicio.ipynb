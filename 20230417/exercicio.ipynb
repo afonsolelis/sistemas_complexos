{
 "cells": [
  {
   "attachments": {},
   "cell_type": "markdown",
   "metadata": {},
   "source": [
    "         | Campo de Futebol | Casa da Sogra |\n",
    "  -------|------------------|---------------|\n",
    "Marido   |      (3, 2)      |    (1, 1)     |\n",
    "Esposa   |      (0, 0)      |    (2, 3)     |\n",
    "\n",
    "Determinar os equilíbrios de Nash em termos de estratégia pura e mista."
   ]
  },
  {
   "attachments": {},
   "cell_type": "markdown",
   "metadata": {},
   "source": [
    "Para encontrar os equilíbrios de Nash, devemos verificar se existe alguma estratégia para cada jogador em que ele não possa melhorar sua posição mudando sua estratégia, dadas as escolhas dos outros jogadores.\n",
    "\n",
    "Em primeiro lugar, vamos examinar as estratégias puras:\n",
    "\n",
    "- Se o Marido escolhe ir no campo de futebol, a Esposa preferiria ir na casa da sogra, já que (2,3) é melhor do que (3,2). Então, (3,2) não é um equilíbrio de Nash.\n",
    "- Se o Marido escolhe ir na casa da sogra, a Esposa preferiria ir no campo de futebol, já que (1,1) é melhor do que (0,0). Então, (1,1) não é um equilíbrio de Nash.\n",
    "- Se a Esposa escolhe ir no campo de futebol, o Marido preferiria ir na casa da sogra, já que (1,1) é melhor do que (0,0). Então, (0,0) não é um equilíbrio de Nash.\n",
    "- Se a Esposa escolhe ir na casa da sogra, o Marido preferiria ir no campo de futebol, já que (3,2) é melhor do que (1,1). Então, (2,3) não é um equilíbrio de Nash.\n",
    "\n",
    "Portanto, não há equilíbrios de Nash em termos de estratégias puras neste jogo.\n",
    "\n"
   ]
  },
  {
   "attachments": {},
   "cell_type": "markdown",
   "metadata": {},
   "source": [
    "Para encontrar os equilíbrios de Nash em termos de estratégias mistas, precisamos determinar as probabilidades com as quais cada jogador escolhe cada estratégia.\n",
    "\n",
    "Suponha que o Marido vá no campo de futebol com probabilidade p e na casa da sogra com probabilidade 1 - p. Em seguida, a Esposa irá no campo de futebol com probabilidade q e na casa da sogra com probabilidade 1 - q.\n",
    "\n",
    "O valor esperado do Marido indo no campo de futebol é 3p + (1 - p) = 2p + 1. O valor esperado do Marido indo na casa da sogra é p + (1 - p) = 1.\n",
    "\n",
    "Se a Esposa ir no campo de futebol, o valor esperado do Marido indo no campo de futebol é 3q + (1 - q) = 2q + 1. O valor esperado do Marido indo na casa da sogra é 1q + (1 - q) = 1.\n",
    "\n",
    "Se a Esposa ir na casa da sogra, o valor esperado do Marido indo no campo de futebol é 0q + (1 - q) = 1 - q. O valor esperado do Marido indo na casa da sogra é 1q + (1 - q) = 1.\n",
    "\n",
    "Para que o Marido esteja indiferente entre ir no campo de futebol e na casa da sogra, os valores esperados devem ser iguais, então:\n",
    "\n",
    "2p + 1 = p + (1 - q)\n",
    "p = q\n",
    "\n",
    "Para que a Esposa esteja indiferente entre ir no campo de futebol e na casa da sogra, os valores esperados devem ser iguais, então:\n",
    "\n",
    "2q + 1 = 1 + (1 - q)\n",
    "q = 1/3\n",
    "\n",
    "Assim, temos que p = q = 1/3.\n",
    "\n",
    "Isso significa que, se o Marido ir no campo de futebol com probabilidade 1/3 e na casa da sogra com probabilidade 2/3, a Esposa irá no campo de futebol com probabilidade 1/3 e na casa da sogra com probabilidade 2/3, e nenhum deles pode melhorar sua posição mudando sua estratégia.\n",
    "\n",
    "Portanto, (1/3, 2/3) é um equilíbrio de Nash em termos de estratégias mistas neste jogo."
   ]
  }
 ],
 "metadata": {
  "kernelspec": {
   "display_name": "Python 3",
   "language": "python",
   "name": "python3"
  },
  "language_info": {
   "codemirror_mode": {
    "name": "ipython",
    "version": 3
   },
   "file_extension": ".py",
   "mimetype": "text/x-python",
   "name": "python",
   "nbconvert_exporter": "python",
   "pygments_lexer": "ipython3",
   "version": "3.10.6"
  },
  "orig_nbformat": 4
 },
 "nbformat": 4,
 "nbformat_minor": 2
}
